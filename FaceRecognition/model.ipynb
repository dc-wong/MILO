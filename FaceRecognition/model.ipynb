{
 "cells": [
  {
   "cell_type": "code",
   "execution_count": null,
   "metadata": {},
   "outputs": [],
   "source": [
    "! pip install opencv tqdm numpy torch matplotlib"
   ]
  },
  {
   "cell_type": "code",
   "execution_count": 1,
   "metadata": {},
   "outputs": [],
   "source": [
    "import os\n",
    "import cv2\n",
    "from tqdm import tqdm\n",
    "\n",
    "import torch\n",
    "from torch.utils.data import Dataset, DataLoader, random_split\n",
    "\n",
    "import torchvision\n",
    "import torch.optim as optim\n",
    "import torch.nn as nn\n",
    "\n",
    "from PIL import Image\n",
    "\n",
    "import matplotlib.pyplot as plt"
   ]
  },
  {
   "cell_type": "markdown",
   "metadata": {},
   "source": [
    "# FDDB Parsing"
   ]
  },
  {
   "cell_type": "code",
   "execution_count": 2,
   "metadata": {},
   "outputs": [],
   "source": [
    "# Paths\n",
    "dataset_path = r\"C:\\PROJECTS\\MILO\\MILO\\FaceRecognition\\data\\Dataset_FDDB\\images\"\n",
    "labels_path = r\"C:\\PROJECTS\\MILO\\MILO\\FaceRecognition\\data\\Dataset_FDDB\\label.txt\"\n",
    "\n",
    "# Target resolution\n",
    "TARGET_HEIGHT, TARGET_WIDTH = 1080, 1920\n",
    "\n",
    "# Define all alignments\n",
    "alignments = [\n",
    "    \"top_left\", \"top_middle\", \"top_right\",\n",
    "    \"center_left\", \"center_middle\", \"center_right\",\n",
    "    \"bottom_left\", \"bottom_middle\", \"bottom_right\"\n",
    "]\n",
    "\n",
    "def parse_labels(label_path):\n",
    "    \"\"\" Reads the label file and returns a dictionary mapping image paths to bounding boxes. \"\"\"\n",
    "    labels = {}\n",
    "    with open(label_path, 'r') as f:\n",
    "        lines = f.readlines()\n",
    "        image_path = None\n",
    "        for line in lines:\n",
    "            line = line.strip()\n",
    "            if line.startswith(\"#\"):\n",
    "                image_path = line[2:]  # Remove '# '\n",
    "                labels[image_path] = []\n",
    "            else:\n",
    "                labels[image_path].append(list(map(int, line.split())))\n",
    "    return labels\n",
    "\n",
    "def pad_image(image, bboxes, alignment=\"middle_middle\"):\n",
    "    \"\"\" Applies padding to fit the image into a 1920x1080 frame while aligning it as specified. \"\"\"\n",
    "    orig_h, orig_w, _ = image.shape\n",
    "\n",
    "    # Compute padding required\n",
    "    padding_x = TARGET_WIDTH - orig_w\n",
    "    padding_y = TARGET_HEIGHT - orig_h\n",
    "\n",
    "    if \"top\" in alignment:\n",
    "        top, bottom = 0, padding_y\n",
    "    elif \"center\" in alignment:\n",
    "        top, bottom = padding_y // 2 , padding_y - (padding_y // 2)\n",
    "    elif \"bottom\" in alignment:  # bottom\n",
    "        top, bottom = padding_y, 0\n",
    "    else:\n",
    "        raise RuntimeError(\"y change not specified\")\n",
    "\n",
    "    if \"left\" in alignment:\n",
    "        left, right = 0, padding_x\n",
    "    elif \"middle\" in alignment:\n",
    "        left, right = padding_x // 2, padding_x - (padding_x // 2)\n",
    "    elif \"right\" in alignment:  # right\n",
    "        left, right = padding_x, 0\n",
    "    else:\n",
    "        raise RuntimeError(\"x change not specified\")\n",
    "\n",
    "    # Apply padding\n",
    "    padded_image = cv2.copyMakeBorder(image, top, bottom, left, right, cv2.BORDER_CONSTANT, value=(0, 0, 0))\n",
    "\n",
    "    # Update bounding boxes\n",
    "    updated_bboxes = []\n",
    "    for (x_min, y_min, x_max, y_max) in bboxes:\n",
    "        x_min, x_max = x_min + left, x_max + left\n",
    "        y_min, y_max = y_min + top, y_max + top\n",
    "        updated_bboxes.append([x_min, y_min, x_max, y_max])\n",
    "\n",
    "    return padded_image, updated_bboxes"
   ]
  },
  {
   "cell_type": "markdown",
   "metadata": {},
   "source": [
    "# FDDB Pre-Processing\n",
    "We need to pre-process be the images are not 1080p while the webcam is. So we will add padding (so we don't scale and mess with resolution or box numbers) to create 3 versions (left, right, and middle padding)."
   ]
  },
  {
   "cell_type": "code",
   "execution_count": 3,
   "metadata": {},
   "outputs": [
    {
     "name": "stderr",
     "output_type": "stream",
     "text": [
      "Processing Images: 100%|██████████| 25515/25515 [02:53<00:00, 146.87img/s]\n"
     ]
    }
   ],
   "source": [
    "output_image_path = r\"C:\\PROJECTS\\MILO\\MILO\\FaceRecognition\\data\\Dataset_FDDB\\aug_images\"\n",
    "output_labels_path = r\"C:\\PROJECTS\\MILO\\MILO\\FaceRecognition\\data\\Dataset_FDDB\\aug_label.txt\"\n",
    "\n",
    "# Ensure output directory exists\n",
    "os.makedirs(output_image_path, exist_ok=True)\n",
    "\n",
    "with open(output_labels_path, \"w\") as new_label_file:\n",
    "    labels = parse_labels(labels_path)\n",
    "    total_images = len(labels) * len(alignments)  # Total processing steps\n",
    "\n",
    "    # Initialize tqdm progress bar\n",
    "    with tqdm(total=total_images, desc=\"Processing Images\", unit=\"img\") as pbar:\n",
    "        for img_rel_path, bboxes in labels.items():\n",
    "            img_abs_path = os.path.join(dataset_path, img_rel_path)\n",
    "\n",
    "            # Load image\n",
    "            image = cv2.imread(img_abs_path)\n",
    "            if image is None:\n",
    "                print(f\"Warning: Could not read {img_rel_path}\")\n",
    "                continue\n",
    "\n",
    "            # Process all 9 alignments\n",
    "            base_name = os.path.splitext(os.path.basename(img_rel_path))[0]  # Extract image filename without extension\n",
    "            for alignment in alignments:\n",
    "                padded_image, updated_bboxes = pad_image(image, bboxes, alignment=alignment)\n",
    "\n",
    "                # Save new image with updated name\n",
    "                new_img_name = f\"{base_name}_{alignment}.jpg\"\n",
    "                new_img_path = os.path.join(output_image_path, new_img_name)\n",
    "                cv2.imwrite(new_img_path, padded_image)\n",
    "\n",
    "                # Write new labels\n",
    "                rel_img_path = os.path.relpath(new_img_path, output_image_path)\n",
    "                new_label_file.write(f\"# {rel_img_path}\\n\")\n",
    "                for bbox in updated_bboxes:\n",
    "                    new_label_file.write(\" \".join(map(str, bbox)) + \"\\n\")\n",
    "                \n",
    "                # Update progress bar\n",
    "                pbar.update(1)\n"
   ]
  },
  {
   "cell_type": "markdown",
   "metadata": {},
   "source": [
    "# Prep Dataset for Use"
   ]
  },
  {
   "cell_type": "code",
   "execution_count": 4,
   "metadata": {},
   "outputs": [],
   "source": [
    "class FaceDataset(Dataset):\n",
    "    def __init__(self, images_folder, labels_file, transform = None):\n",
    "        self.images_folder = images_folder\n",
    "        self.transform = transform # technically should be a parameter, but due to situation, we are doing that seperately beforehand\n",
    "        self.data = []\n",
    "\n",
    "        with open(labels_file, \"r\") as f:\n",
    "            lines = f.readlines()\n",
    "            image_path = None\n",
    "            boxes = []\n",
    "            for line in lines:\n",
    "                line = line.strip()\n",
    "                if line.startswith(\"#\"):\n",
    "                    if image_path:  # Save previous image\n",
    "                        self.data.append((image_path, boxes))\n",
    "                    image_path = os.path.join(images_folder, line[2:])\n",
    "                    boxes = []\n",
    "                else:\n",
    "                    boxes.append(list(map(int, line.split())))\n",
    "            if image_path:  # Save last image\n",
    "                self.data.append((image_path, boxes))\n",
    "\n",
    "    def __len__(self):\n",
    "        return len(self.data)\n",
    "\n",
    "    def __getitem__(self, idx):\n",
    "        image_path, boxes = self.data[idx]\n",
    "        image = cv2.imread(image_path)\n",
    "        image = cv2.cvtColor(image, cv2.COLOR_BGR2RGB)\n",
    "        # image = Image.open(image).convert('RGB')\n",
    "\n",
    "        # keep in for easy refactor in the future\n",
    "        if self.transform:\n",
    "            image = self.transform(image)\n",
    "\n",
    "        # # Convert to PyTorch tensor\n",
    "        image = torch.tensor(image, dtype=torch.float32).permute(2, 0, 1) / 255.0  # Normalize to [0,1]\n",
    "\n",
    "        # Convert bounding boxes to tensor\n",
    "        boxes = torch.tensor(boxes, dtype=torch.float32)\n",
    "\n",
    "        # Labels (assuming all objects belong to class 1, since it's face detection)\n",
    "        labels = torch.ones((boxes.shape[0],), dtype=torch.int64)\n",
    "\n",
    "        target = {\"boxes\": boxes, \"labels\": labels}\n",
    "        return image, target"
   ]
  },
  {
   "cell_type": "code",
   "execution_count": 5,
   "metadata": {},
   "outputs": [],
   "source": [
    "full_images_path = r\"C:\\PROJECTS\\MILO\\MILO\\FaceRecognition\\data\\Dataset_FDDB\\aug_images\"\n",
    "full_labels_path = r\"C:\\PROJECTS\\MILO\\MILO\\FaceRecognition\\data\\Dataset_FDDB\\aug_label.txt\"\n",
    "dataset = FaceDataset(full_images_path, full_labels_path)\n",
    "\n",
    "train_size = int(0.8 * len(dataset))\n",
    "\n",
    "indices = torch.randperm(len(dataset)).tolist()\n",
    "train_indices, test_indices = indices[:train_size], indices[train_size:]\n",
    "\n",
    "train_dataset = torch.utils.data.Subset(dataset, train_indices)\n",
    "test_dataset = torch.utils.data.Subset(dataset, test_indices)\n",
    "\n",
    "def collate_fn(batch):\n",
    "    images, targets = zip(*batch)\n",
    "    return list(images), list(targets)\n",
    "\n",
    "train_loader = DataLoader(train_dataset, batch_size=4, shuffle=True, collate_fn=collate_fn)\n",
    "test_loader = DataLoader(test_dataset, batch_size=4, shuffle=False, collate_fn=collate_fn)"
   ]
  },
  {
   "cell_type": "markdown",
   "metadata": {},
   "source": [
    "# Model Training"
   ]
  },
  {
   "cell_type": "markdown",
   "metadata": {},
   "source": [
    "## SSDLite"
   ]
  },
  {
   "cell_type": "code",
   "execution_count": 26,
   "metadata": {},
   "outputs": [
    {
     "name": "stdout",
     "output_type": "stream",
     "text": [
      "Trainable layers: ['backbone.features.0.0.0.weight', 'backbone.features.0.0.1.weight', 'backbone.features.0.0.1.bias', 'backbone.features.0.1.block.0.0.weight', 'backbone.features.0.1.block.0.1.weight', 'backbone.features.0.1.block.0.1.bias', 'backbone.features.0.1.block.1.0.weight', 'backbone.features.0.1.block.1.1.weight', 'backbone.features.0.1.block.1.1.bias', 'backbone.features.0.2.block.0.0.weight', 'backbone.features.0.2.block.0.1.weight', 'backbone.features.0.2.block.0.1.bias', 'backbone.features.0.2.block.1.0.weight', 'backbone.features.0.2.block.1.1.weight', 'backbone.features.0.2.block.1.1.bias', 'backbone.features.0.2.block.2.0.weight', 'backbone.features.0.2.block.2.1.weight', 'backbone.features.0.2.block.2.1.bias', 'backbone.features.0.3.block.0.0.weight', 'backbone.features.0.3.block.0.1.weight', 'backbone.features.0.3.block.0.1.bias', 'backbone.features.0.3.block.1.0.weight', 'backbone.features.0.3.block.1.1.weight', 'backbone.features.0.3.block.1.1.bias', 'backbone.features.0.3.block.2.0.weight', 'backbone.features.0.3.block.2.1.weight', 'backbone.features.0.3.block.2.1.bias', 'backbone.features.0.4.block.0.0.weight', 'backbone.features.0.4.block.0.1.weight', 'backbone.features.0.4.block.0.1.bias', 'backbone.features.0.4.block.1.0.weight', 'backbone.features.0.4.block.1.1.weight', 'backbone.features.0.4.block.1.1.bias', 'backbone.features.0.4.block.2.fc1.weight', 'backbone.features.0.4.block.2.fc1.bias', 'backbone.features.0.4.block.2.fc2.weight', 'backbone.features.0.4.block.2.fc2.bias', 'backbone.features.0.4.block.3.0.weight', 'backbone.features.0.4.block.3.1.weight', 'backbone.features.0.4.block.3.1.bias', 'backbone.features.0.5.block.0.0.weight', 'backbone.features.0.5.block.0.1.weight', 'backbone.features.0.5.block.0.1.bias', 'backbone.features.0.5.block.1.0.weight', 'backbone.features.0.5.block.1.1.weight', 'backbone.features.0.5.block.1.1.bias', 'backbone.features.0.5.block.2.fc1.weight', 'backbone.features.0.5.block.2.fc1.bias', 'backbone.features.0.5.block.2.fc2.weight', 'backbone.features.0.5.block.2.fc2.bias', 'backbone.features.0.5.block.3.0.weight', 'backbone.features.0.5.block.3.1.weight', 'backbone.features.0.5.block.3.1.bias', 'backbone.features.0.6.block.0.0.weight', 'backbone.features.0.6.block.0.1.weight', 'backbone.features.0.6.block.0.1.bias', 'backbone.features.0.6.block.1.0.weight', 'backbone.features.0.6.block.1.1.weight', 'backbone.features.0.6.block.1.1.bias', 'backbone.features.0.6.block.2.fc1.weight', 'backbone.features.0.6.block.2.fc1.bias', 'backbone.features.0.6.block.2.fc2.weight', 'backbone.features.0.6.block.2.fc2.bias', 'backbone.features.0.6.block.3.0.weight', 'backbone.features.0.6.block.3.1.weight', 'backbone.features.0.6.block.3.1.bias', 'backbone.features.0.7.block.0.0.weight', 'backbone.features.0.7.block.0.1.weight', 'backbone.features.0.7.block.0.1.bias', 'backbone.features.0.7.block.1.0.weight', 'backbone.features.0.7.block.1.1.weight', 'backbone.features.0.7.block.1.1.bias', 'backbone.features.0.7.block.2.0.weight', 'backbone.features.0.7.block.2.1.weight', 'backbone.features.0.7.block.2.1.bias', 'backbone.features.0.8.block.0.0.weight', 'backbone.features.0.8.block.0.1.weight', 'backbone.features.0.8.block.0.1.bias', 'backbone.features.0.8.block.1.0.weight', 'backbone.features.0.8.block.1.1.weight', 'backbone.features.0.8.block.1.1.bias', 'backbone.features.0.8.block.2.0.weight', 'backbone.features.0.8.block.2.1.weight', 'backbone.features.0.8.block.2.1.bias', 'backbone.features.0.9.block.0.0.weight', 'backbone.features.0.9.block.0.1.weight', 'backbone.features.0.9.block.0.1.bias', 'backbone.features.0.9.block.1.0.weight', 'backbone.features.0.9.block.1.1.weight', 'backbone.features.0.9.block.1.1.bias', 'backbone.features.0.9.block.2.0.weight', 'backbone.features.0.9.block.2.1.weight', 'backbone.features.0.9.block.2.1.bias', 'backbone.features.0.10.block.0.0.weight', 'backbone.features.0.10.block.0.1.weight', 'backbone.features.0.10.block.0.1.bias', 'backbone.features.0.10.block.1.0.weight', 'backbone.features.0.10.block.1.1.weight', 'backbone.features.0.10.block.1.1.bias', 'backbone.features.0.10.block.2.0.weight', 'backbone.features.0.10.block.2.1.weight', 'backbone.features.0.10.block.2.1.bias', 'backbone.features.0.11.block.0.0.weight', 'backbone.features.0.11.block.0.1.weight', 'backbone.features.0.11.block.0.1.bias', 'backbone.features.0.11.block.1.0.weight', 'backbone.features.0.11.block.1.1.weight', 'backbone.features.0.11.block.1.1.bias', 'backbone.features.0.11.block.2.fc1.weight', 'backbone.features.0.11.block.2.fc1.bias', 'backbone.features.0.11.block.2.fc2.weight', 'backbone.features.0.11.block.2.fc2.bias', 'backbone.features.0.11.block.3.0.weight', 'backbone.features.0.11.block.3.1.weight', 'backbone.features.0.11.block.3.1.bias', 'backbone.features.0.12.block.0.0.weight', 'backbone.features.0.12.block.0.1.weight', 'backbone.features.0.12.block.0.1.bias', 'backbone.features.0.12.block.1.0.weight', 'backbone.features.0.12.block.1.1.weight', 'backbone.features.0.12.block.1.1.bias', 'backbone.features.0.12.block.2.fc1.weight', 'backbone.features.0.12.block.2.fc1.bias', 'backbone.features.0.12.block.2.fc2.weight', 'backbone.features.0.12.block.2.fc2.bias', 'backbone.features.0.12.block.3.0.weight', 'backbone.features.0.12.block.3.1.weight', 'backbone.features.0.12.block.3.1.bias', 'backbone.features.0.13.0.weight', 'backbone.features.0.13.1.weight', 'backbone.features.0.13.1.bias', 'head.classification_head.module_list.0.0.0.weight', 'head.classification_head.module_list.0.0.1.weight', 'head.classification_head.module_list.0.0.1.bias', 'head.classification_head.module_list.0.1.weight', 'head.classification_head.module_list.0.1.bias']\n"
     ]
    }
   ],
   "source": [
    "from torchvision.models.detection import ssdlite320_mobilenet_v3_large, SSDLite320_MobileNet_V3_Large_Weights, ssdlite\n",
    "from torchvision.models.detection.anchor_utils import DefaultBoxGenerator\n",
    "import math\n",
    "\n",
    "# Check if CUDA is available\n",
    "device = torch.device(\"cuda\" if torch.cuda.is_available() else \"cpu\")\n",
    "\n",
    "# Load SSD300 with VGG16 backbone\n",
    "model = ssdlite320_mobilenet_v3_large(weights=SSDLite320_MobileNet_V3_Large_Weights.DEFAULT)  # Set to True if you want pretrained weights\n",
    "model.to(device)\n",
    "\n",
    "# Get the number of input features for the classification head\n",
    "in_channels = [list(m.parameters())[0].shape[0] for m in model.head.classification_head.module_list]\n",
    "\n",
    "# Check input channels\n",
    "num_anchors = model.head.classification_head.module_list[0][1].out_channels // 91  # Default COCO classes is 91\n",
    "\n",
    "dummy_input = torch.randn(1, 3, 1080, 1920).to(device)\n",
    "features = model.backbone(dummy_input)\n",
    "feature_map_shapes = [f.shape[-2:] for f in features.values()]\n",
    "\n",
    "def get_new_anchor_generator(input_size, feature_map_shapes, aspect_ratios=None):\n",
    "    num_feature_maps = len(feature_map_shapes)\n",
    "    # Define relative scales (as fractions) for the anchor boxes.\n",
    "    # We compute num_feature_maps+1 scales.\n",
    "    s_min, s_max = 0.2, 0.9\n",
    "    scales = [s_min + (s_max - s_min) * k / num_feature_maps for k in range(num_feature_maps + 1)]\n",
    "    \n",
    "    if aspect_ratios is None:\n",
    "        # For each feature map, use a default set of aspect ratios.\n",
    "        aspect_ratios = [[1.0, 2.0, 0.5]] * num_feature_maps\n",
    "    \n",
    "    # Now create the DefaultBoxGenerator with the computed scales (a list of floats)\n",
    "    anchor_generator = DefaultBoxGenerator(aspect_ratios, scales=scales)\n",
    "    return anchor_generator\n",
    "\n",
    "# For example, using the height (1080) as the reference:\n",
    "new_anchor_generator = get_new_anchor_generator(1080, feature_map_shapes)\n",
    "# Replace the model's anchor generator:\n",
    "model.anchor_generator = new_anchor_generator\n",
    "\n",
    "\n",
    "# Modify classification head to have 2 classes \n",
    "model.head.classification_head.num_classes = 2  # Update class count\n",
    "model.head.classification_head = ssdlite.SSDLiteClassificationHead(\n",
    "    in_channels = in_channels,\n",
    "    num_anchors = [num_anchors], \n",
    "    num_classes = 2,\n",
    "    norm_layer = nn.BatchNorm2d\n",
    ")\n",
    "\n",
    "\n",
    "# Modify for 1080p Input\n",
    "model.size = (1080, 1920)\n",
    "\n",
    "# Freeze all layers by default\n",
    "for param in model.parameters():\n",
    "    param.requires_grad = False\n",
    "\n",
    "# Unfreeze the first few layers of the backbone\n",
    "for layer in list(model.backbone.features)[:1]:  # Modify the number as needed\n",
    "    for param in layer.parameters():\n",
    "        param.requires_grad = True\n",
    "\n",
    "# Unfreeze the last layers of the detection head (classification + box regression)\n",
    "for param in model.head.classification_head.parameters():\n",
    "    param.requires_grad = True\n",
    "\n",
    "# for param in model.head.regression_head.parameters():\n",
    "#     param.requires_grad = True\n",
    "\n",
    "# Print which layers are trainable\n",
    "trainable_layers = [name for name, param in model.named_parameters() if param.requires_grad]\n",
    "print(\"Trainable layers:\", trainable_layers)\n",
    "\n",
    "\n",
    "# Define Optimizer & Loss\n",
    "optimizer = optim.Adam(model.parameters(), lr=0.001)\n"
   ]
  },
  {
   "cell_type": "code",
   "execution_count": 20,
   "metadata": {},
   "outputs": [],
   "source": [
    "# Initialize lists to store losses\n",
    "train_losses = []\n",
    "eval_losses = []\n",
    "\n",
    "# Live plotting function\n",
    "def plot_losses():\n",
    "    plt.figure(figsize=(8, 5))\n",
    "    plt.plot(train_losses, label=\"Train Loss\", marker=\"o\")\n",
    "    plt.plot(eval_losses, label=\"Eval Loss\", marker=\"o\", linestyle=\"dashed\")\n",
    "    plt.xlabel(\"Epoch\")\n",
    "    plt.ylabel(\"Loss\")\n",
    "    plt.title(\"Training vs Evaluation Loss\")\n",
    "    plt.legend()\n",
    "    plt.grid()\n",
    "    plt.show(block=False)\n",
    "    plt.pause(0.1)  # Pause to update the plot"
   ]
  },
  {
   "cell_type": "code",
   "execution_count": 21,
   "metadata": {},
   "outputs": [],
   "source": [
    "optimizer = optim.Adam(model.parameters(), lr=0.001)\n",
    "# Training Loop with tqdm & Live Graph\n",
    "def train_model(model, train_loader, test_loader, num_epochs=10):\n",
    "    model.train()\n",
    "    for epoch in range(num_epochs):\n",
    "        total_train_loss = 0\n",
    "        # tqdm progress bar for training\n",
    "        progress_bar = tqdm(train_loader, desc=f\"Epoch {epoch+1}/{num_epochs}\", unit=\"batch\")\n",
    "        for images, targets in progress_bar:\n",
    "            optimizer.zero_grad()\n",
    "            # Move data to GPU if available\n",
    "            images = [img.to(device) for img in images]\n",
    "            targets = [{k: v.to(device) for k, v in t.items()} for t in targets]\n",
    "\n",
    "            # Forward pass\n",
    "            outputs = model(images, targets)\n",
    "\n",
    "            # Compute loss\n",
    "            # loss = criterion(outputs, targets)\n",
    "            loss = sum(loss for loss in outputs.values())\n",
    "            loss.backward()\n",
    "            optimizer.step()\n",
    "            \n",
    "            total_train_loss += loss.item()\n",
    "            progress_bar.set_postfix(loss=f\"{loss.item():.4f}\")\n",
    "\n",
    "        avg_train_loss = total_train_loss / len(train_loader)\n",
    "        train_losses.append(avg_train_loss)\n",
    "\n",
    "        # Evaluate Model After Each Epoch\n",
    "        avg_eval_loss = evaluate_model(model, test_loader)\n",
    "        eval_losses.append(avg_eval_loss)\n",
    "\n",
    "        # Print Epoch Summary\n",
    "        print(f\"\\nEpoch {epoch+1}: Train Loss = {avg_train_loss:.4f}, Eval Loss = {avg_eval_loss:.4f}\")\n",
    "\n",
    "\n",
    "# Evaluation Function with tqdm Progress Bar\n",
    "def evaluate_model(model, test_loader):\n",
    "    model.train()\n",
    "    total_loss = 0\n",
    "\n",
    "    with torch.no_grad():\n",
    "        progress_bar = tqdm(test_loader, desc=\"Evaluating\", unit=\"batch\")\n",
    "        for images, targets in progress_bar:\n",
    "            images = [img.to(device) for img in images]\n",
    "            targets = [{k: v.to(device) for k, v in t.items()} for t in targets]\n",
    "\n",
    "            # When targets are provided, the model returns a dictionary of losses.\n",
    "            loss_dict = model(images, targets)\n",
    "            loss = sum(loss for loss in loss_dict.values())\n",
    "            total_loss += loss.item()\n",
    "\n",
    "            progress_bar.set_postfix(loss=f\"{loss.item():.4f}\")\n",
    "\n",
    "    avg_loss = total_loss / len(test_loader)\n",
    "    return avg_loss\n",
    "\n",
    "# Check if CUDA is available\n",
    "device = torch.device(\"cuda\" if torch.cuda.is_available() else \"cpu\")"
   ]
  },
  {
   "cell_type": "code",
   "execution_count": 18,
   "metadata": {},
   "outputs": [
    {
     "name": "stdout",
     "output_type": "stream",
     "text": [
      "cuda\n"
     ]
    },
    {
     "name": "stderr",
     "output_type": "stream",
     "text": [
      "Epoch 1/5: 100%|██████████| 5103/5103 [07:51<00:00, 10.82batch/s, loss=4.3101] \n",
      "Evaluating: 100%|██████████| 1276/1276 [01:33<00:00, 13.61batch/s, loss=6.2087] \n"
     ]
    },
    {
     "name": "stdout",
     "output_type": "stream",
     "text": [
      "\n",
      "Epoch 1: Train Loss = 4.8785, Eval Loss = 5.1220\n"
     ]
    },
    {
     "name": "stderr",
     "output_type": "stream",
     "text": [
      "Epoch 2/5: 100%|██████████| 5103/5103 [07:44<00:00, 10.99batch/s, loss=5.3056] \n",
      "Evaluating: 100%|██████████| 1276/1276 [01:33<00:00, 13.69batch/s, loss=5.7227] \n"
     ]
    },
    {
     "name": "stdout",
     "output_type": "stream",
     "text": [
      "\n",
      "Epoch 2: Train Loss = 4.8353, Eval Loss = 5.1167\n"
     ]
    },
    {
     "name": "stderr",
     "output_type": "stream",
     "text": [
      "Epoch 3/5: 100%|██████████| 5103/5103 [07:45<00:00, 10.97batch/s, loss=5.3586] \n",
      "Evaluating: 100%|██████████| 1276/1276 [01:33<00:00, 13.67batch/s, loss=5.5830] \n"
     ]
    },
    {
     "name": "stdout",
     "output_type": "stream",
     "text": [
      "\n",
      "Epoch 3: Train Loss = 4.7988, Eval Loss = 5.1265\n"
     ]
    },
    {
     "name": "stderr",
     "output_type": "stream",
     "text": [
      "Epoch 4/5: 100%|██████████| 5103/5103 [07:43<00:00, 11.01batch/s, loss=4.0048] \n",
      "Evaluating: 100%|██████████| 1276/1276 [01:33<00:00, 13.58batch/s, loss=5.6772] \n"
     ]
    },
    {
     "name": "stdout",
     "output_type": "stream",
     "text": [
      "\n",
      "Epoch 4: Train Loss = 4.7692, Eval Loss = 5.1105\n"
     ]
    },
    {
     "name": "stderr",
     "output_type": "stream",
     "text": [
      "Epoch 5/5: 100%|██████████| 5103/5103 [07:42<00:00, 11.04batch/s, loss=4.5779] \n",
      "Evaluating: 100%|██████████| 1276/1276 [01:33<00:00, 13.65batch/s, loss=5.5626] \n"
     ]
    },
    {
     "name": "stdout",
     "output_type": "stream",
     "text": [
      "\n",
      "Epoch 5: Train Loss = 4.7302, Eval Loss = 5.1213\n"
     ]
    },
    {
     "data": {
      "image/png": "[encoded data removed]",
      "text/plain": [
       "<Figure size 800x500 with 1 Axes>"
      ]
     },
     "metadata": {},
     "output_type": "display_data"
    }
   ],
   "source": [
    "print(device)\n",
    "model.to(device)\n",
    "for _ in range(1):\n",
    "    # Train Model with Evaluation Each Epoch\n",
    "    train_model(model, train_loader, test_loader, num_epochs=5)\n",
    "    plot_losses()\n",
    "    torch.save(model.state_dict(), r\"C:\\PROJECTS\\MILO\\MILO\\FaceRecognition\\model.pth\")\n",
    "    "
   ]
  },
  {
   "cell_type": "code",
   "execution_count": null,
   "metadata": {},
   "outputs": [],
   "source": [
    "# Convert to ONNX with 1080p Input\n",
    "dummy_input = torch.randn(1, 3, 1080, 1920).to(device)  # Adjusted for 1080p\n",
    "torch.onnx.export(model, dummy_input, [\"ssd_1080p.onnx\"], dynamo=True)"
   ]
  },
  {
   "cell_type": "code",
   "execution_count": 10,
   "metadata": {},
   "outputs": [],
   "source": [
    "torch.save(model.state_dict(), r\"C:\\PROJECTS\\MILO\\MILO\\FaceRecognition\\model.pth\")"
   ]
  },
  {
   "cell_type": "code",
   "execution_count": null,
   "metadata": {},
   "outputs": [],
   "source": [
    "model = TheModelClass(*args, **kwargs)\n",
    "model.load_state_dict(torch.load(PATH, weights_only=True))\n",
    "model.eval()"
   ]
  }
 ],
 "metadata": {
  "kernelspec": {
   "display_name": "base",
   "language": "python",
   "name": "python3"
  },
  "language_info": {
   "codemirror_mode": {
    "name": "ipython",
    "version": 3
   },
   "file_extension": ".py",
   "mimetype": "text/x-python",
   "name": "python",
   "nbconvert_exporter": "python",
   "pygments_lexer": "ipython3",
   "version": "3.12.7"
  }
 },
 "nbformat": 4,
 "nbformat_minor": 2
}
